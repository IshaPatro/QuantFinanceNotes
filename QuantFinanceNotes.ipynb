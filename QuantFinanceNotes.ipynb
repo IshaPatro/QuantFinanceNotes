{
 "cells": [
  {
   "cell_type": "markdown",
   "id": "2e3b681d-e481-4541-af46-916fdbaf8560",
   "metadata": {},
   "source": [
    "# Stock Market Basics"
   ]
  },
  {
   "cell_type": "markdown",
   "id": "6739d325-d94a-4d30-aa80-14edb0de3fcd",
   "metadata": {},
   "source": [
    "## Future Value of Money\n",
    "\n",
    "The Future Value (FV) of money refers to the amount of money an investment will grow to over a given period of time at a specified rate of interest. It helps assess how much current money will be worth in the future due to interest or returns on investments.\n",
    "\n",
    "### Discrete Compounding Formula:\n",
    "$$\n",
    "P = \\frac{F}{(1 + r)^n}\n",
    "$$\n",
    "Where:\n",
    "- \\(r\\) = Interest rate \n",
    "- \\(t\\) = Number of years\n",
    "\n",
    "### Continuous Compounding Formula:\n",
    "$$\n",
    "FV = PV \\times e^{(r \\times t)}\n",
    "$$\n",
    "Where:\n",
    "- \\(r\\) = Interest rate \n",
    "- \\(t\\) = Number of years\n"
   ]
  },
  {
   "cell_type": "code",
   "execution_count": 1,
   "id": "424513c0-ef85-45a4-a015-455cd1fd8670",
   "metadata": {},
   "outputs": [
    {
     "name": "stdout",
     "output_type": "stream",
     "text": [
      "Future Discrete Value of 100 at 0.05% interest rate in 2 years: 110.25\n",
      "Future Concrete Value of 100 at 0.05% interest rate in 2 years: 110.51709180756477\n"
     ]
    }
   ],
   "source": [
    "from math import exp\n",
    "\n",
    "def future_discrete_value(x,r,t):\n",
    "    return x*(1+r)**t\n",
    "\n",
    "def future_continuous_value(x,r,t):\n",
    "    return x*exp(r*t)\n",
    "\n",
    "x=100\n",
    "r=0.05\n",
    "t=2\n",
    "\n",
    "print(f\"Future Discrete Value of {x} at {r}% interest rate in {t} years: {future_discrete_value(x,r,t)}\")\n",
    "print(f\"Future Concrete Value of {x} at {r}% interest rate in {t} years: {future_continuous_value(x,r,t)}\")"
   ]
  },
  {
   "cell_type": "markdown",
   "id": "fdef6f02-7583-4370-8587-aaa6ecb0716e",
   "metadata": {},
   "source": [
    "## Stocks\n",
    "- **Definition**: Stocks represent ownership in a company. When you buy shares, you own a piece of that company.\n",
    "- **Types**:\n",
    "  - **Common Stocks**: Shareholders may vote on company matters and receive dividends.\n",
    "  - **Preferred Stocks**: Shareholders receive dividends before common stockholders but usually don’t have voting rights.\n",
    "- **Market Dynamics**:\n",
    "  - **Supply and Demand**: Prices fluctuate based on how many people want to buy (demand) versus sell (supply).\n",
    "  - **Earnings Reports**: Companies report their performance quarterly; good news can drive prices up, bad news can drive them down.\n",
    "  - **Market Sentiment**: Investor emotions can heavily influence stock prices, often leading to volatility."
   ]
  },
  {
   "cell_type": "markdown",
   "id": "93f92d21-68c7-4374-855a-999bc0d7a815",
   "metadata": {},
   "source": [
    "## Commodities\n",
    "- **Definition**: Commodities are basic goods used in commerce that are interchangeable with other goods of the same type. They can be categorized into two main types:\n",
    "  - **Hard Commodities**: Natural resources that are mined or extracted (e.g., oil, gold).\n",
    "  - **Soft Commodities**: Agricultural products or livestock (e.g., wheat, coffee).\n",
    "- **Trading**:\n",
    "  - **Spot Market**: Commodities are bought and sold for immediate delivery.\n",
    "  - **Futures Market**: Contracts are made to buy or sell a commodity at a future date at an agreed price, allowing for speculation and hedging.\n",
    "- **Factors Influencing Prices**:\n",
    "  - **Supply Chain Dynamics**: Weather conditions, geopolitical issues, and production rates can affect supply and prices.\n",
    "  - **Economic Indicators**: Global economic health, inflation, and currency strength can influence commodity prices.\n",
    "  - **Speculation**: Traders often speculate on future price movements, adding volatility."
   ]
  },
  {
   "cell_type": "markdown",
   "id": "0c935a8d-94f7-453d-a84f-edea893320b2",
   "metadata": {},
   "source": [
    "## Currencies\n",
    "**Definition**: Currencies are the money used in a particular country, consisting of coins and banknotes, and often issued by a central authority.\n",
    "\n",
    "**Factors Influencing Currency Value**:\n",
    "- **Interest Rates**: Higher interest rates can attract foreign capital, increasing currency value.\n",
    "- **Economic Indicators**: GDP growth, employment rates, and inflation influence currency strength.\n",
    "- **Political Stability**: Countries with less risk of political turmoil tend to have stronger currencies.\n",
    "- **Market Sentiment**: Traders' perceptions about future economic conditions impact demand.\n",
    "- **Trade Balance**: A positive trade balance strengthens a currency, while a deficit weakens it.\n",
    "- **Government Debt**: High levels of debt may decrease currency value due to inflationary risks.\n",
    "- **Speculation**: Traders buying or selling based on future expectations influence current value.\n"
   ]
  },
  {
   "cell_type": "markdown",
   "id": "50b8bfb4-100c-480b-b08e-565dc73b5eb1",
   "metadata": {},
   "source": [
    "## Forex (Foreign Exchange Market)\n",
    "**Definition**: The forex market is the global marketplace for trading national currencies against one another.\n",
    "\n",
    "**Factors Influencing Forex Market**:\n",
    "- **Supply and Demand**: The availability of and demand for a currency affects its exchange rate.\n",
    "- **Interest Rate Differentials**: Differences in interest rates between countries can drive currency value changes in forex trading.\n",
    "- **Economic Data**: Indicators like inflation, employment, and GDP can impact currency prices.\n",
    "- **Geopolitical Events**: Wars, elections, and natural disasters can cause significant fluctuations in the forex market.\n",
    "- **Central Bank Interventions**: Central banks may buy/sell their own currency to control inflation or stabilize their economy.\n",
    "- **Global Trade and Investment Flows**: Countries with strong export economies or large foreign investments may see higher currency demand."
   ]
  },
  {
   "attachments": {},
   "cell_type": "markdown",
   "id": "156809d0-9e38-4acd-ba0b-8a43fbca198f",
   "metadata": {},
   "source": [
    "## Long Position\n",
    "**Definition**: A long position is when a trader buys a security (e.g., a stock or currency) with the expectation that its price will rise over time. The goal is to sell the asset later at a higher price, profiting from the price difference.\n",
    "\n",
    "<img src=\"images/longPosition.png\" alt=\"Long Position Image\" width=\"500\" height=\"300\">"
   ]
  },
  {
   "attachments": {},
   "cell_type": "markdown",
   "id": "f28e3cfc-1e09-4f0c-b9e5-45e0f736cd6d",
   "metadata": {},
   "source": [
    "## Short Position\n",
    "**Definition**: A short position is when a trader borrows and sells a security with the expectation that its price will fall. Later, the trader buys the same security back at a lower price, returns the borrowed security, and profits from the price difference.\n",
    "\n",
    "<img src=\"images/shortPosition.png\" alt=\"Long Position Image\" width=\"500\" height=\"300\">"
   ]
  },
  {
   "cell_type": "markdown",
   "id": "1bf721a7-95a0-4bd5-a0ea-bc89d6b8b787",
   "metadata": {},
   "source": [
    "# Bonds Theory"
   ]
  },
  {
   "cell_type": "markdown",
   "id": "998ca7cb-7dc7-44d8-998c-f257872b23d1",
   "metadata": {},
   "source": [
    "## Bonds\n",
    "\n",
    "**Definition**: Bonds are debt securities issued by entities like governments or corporations to raise capital. When an investor buys a bond, they are effectively lending money to the issuer in return for regular interest payments and repayment of the principal amount at maturity.\n",
    "\n",
    "**Issuance Process**:\n",
    "- **Primary Market**: Bonds are first issued in the primary market through **public offerings** or **private placements**. Governments and corporations sell bonds directly to investors.\n",
    "- **Secondary Market**: After issuance, bonds can be bought and sold in the secondary market, where investors trade bonds with each other.\n",
    "\n",
    "**Types of Issuers**:\n",
    "- **Government Bonds**: Issued by national governments (e.g., U.S. Treasury, UK Gilts) to finance public spending.\n",
    "- **Corporate Bonds**: Issued by companies to raise funds for business activities like expansion or development.\n",
    "- **Municipal Bonds**: Issued by local governments, municipalities, or states to finance public projects like roads or schools."
   ]
  },
  {
   "cell_type": "markdown",
   "id": "0c9eb119-5ace-4164-9f8f-3328fc9cd282",
   "metadata": {},
   "source": [
    "## Zero-Coupon Bond\n",
    "\n",
    "**Definition**:\n",
    "A zero-coupon bond is a type of bond that does not pay periodic interest (coupons). Instead, it is sold at a deep discount to its face value, and the bondholder receives the full face value at maturity. The difference between the purchase price and the face value represents the investor's profit.\n",
    "\n",
    "**How Zero-Coupon Bonds Work**:\n",
    "1. **Issuance**: Zero-coupon bonds are issued at a discount to their face value. For example, a bond with a face value of \\\\$1,000 might be sold for \\$750.\n",
    "2. **No Periodic Payments**: Unlike traditional bonds, zero-coupon bonds do not make periodic interest payments.\n",
    "3. **Maturity**: At maturity, the bondholder receives the bond’s face value. The return on investment is the difference between the purchase price and the face value.\n",
    "4. **Investor Profit**: The profit earned from holding a zero-coupon bond comes from the appreciation of the bond’s value over time as it approaches maturity.\n",
    "\n",
    "**Formula**:\n",
    "$$\n",
    "P = \\frac{F}{(1 + r)^n}\n",
    "$$\n",
    "\n",
    "Where:\n",
    "- **P** = Price of the bond (current price or the price at which it is sold)\n",
    "- **F** = Face value of the bond (amount received at maturity)\n",
    "- **r** = Annual interest rate (or yield)\n",
    "- **n** = Number of years until maturity\n",
    "\n",
    "**Advantages**:\n",
    "- **Simplicity**: There are no periodic interest payments to track.\n",
    "- **Long-Term Growth**: Ideal for long-term investment strategies, especially when held to maturity.\n",
    "- **Predictability**: The exact amount to be received at maturity is known in advance.\n",
    "\n",
    "**Risks**:\n",
    "- **Interest Rate Risk**: If interest rates rise, the present value of the bond decreases.\n",
    "- **Inflation Risk**: The fixed face value does not adjust for inflation, which can erode purchasing power over time."
   ]
  },
  {
   "cell_type": "code",
   "execution_count": 2,
   "id": "38280ee9-2b96-41e6-b8dd-9bdac1a5eedd",
   "metadata": {},
   "outputs": [
    {
     "name": "stdout",
     "output_type": "stream",
     "text": [
      "The price of the zero-coupon bond is: $613.91\n"
     ]
    }
   ],
   "source": [
    "def zero_coupon_bond_price(face_value, interest_rate, years):\n",
    "    price = face_value / (1 + interest_rate) ** years\n",
    "    return price\n",
    "\n",
    "face_value = 1000 \n",
    "interest_rate = 0.05  \n",
    "years = 10 \n",
    "\n",
    "bond_price = zero_coupon_bond_price(face_value, interest_rate, years)\n",
    "print(f\"The price of the zero-coupon bond is: ${bond_price:.2f}\")"
   ]
  },
  {
   "cell_type": "markdown",
   "id": "ac0b715e-791e-4b4c-9710-34bb6a111024",
   "metadata": {},
   "source": [
    "## Coupon Bond\n",
    "\n",
    "**Definition**: A coupon bond is a type of bond that pays the bondholder periodic interest payments, called coupons, until maturity. At maturity, the bondholder receives the face value of the bond in addition to the final coupon payment. The interest payments are typically made annually or semi-annually.\n",
    "\n",
    "**How Coupon Bonds Work**:\n",
    "- **Issuance**: Coupon bonds are issued at or near their face value by corporations or governments.\n",
    "- **Periodic Payments**: The bondholder receives regular coupon payments based on the bond’s coupon rate. For example, a bond with a 5% coupon rate on a \\\\$1,000 face value will pay \\\\$50 annually (or \\$25 semi-annually).\n",
    "- **Maturity**: At the bond’s maturity date, the bondholder receives the bond’s face value along with the final coupon payment.\n",
    "- **Investor Profit**: Profit comes from both the periodic coupon payments and the repayment of the face value at maturity.\n",
    "\n",
    "**Cycle of a Coupon Bond**:\n",
    "1. **Purchase**: Investor buys the bond, typically at face value (e.g., \\$1,000).\n",
    "2. **Periodic Coupon Payments**: The bondholder receives interest payments (e.g., \\$50 annually) based on the coupon rate.\n",
    "3. **Maturity**: At the bond’s maturity, the bondholder receives the face value (e.g., \\$1,000) along with the final coupon payment.\n",
    "4. **Profit**: The total profit is the sum of all coupon payments received and the principal repayment.\n",
    "\n",
    "**Formula**:\n",
    "$$\n",
    "P = C \\times \\left( \\frac{1 - (1 + r)^{-n}}{r} \\right) + \\frac{F}{(1 + r)^n}\n",
    "$$\n",
    "\n",
    "Where:\n",
    "- **P** = Price of the bond\n",
    "- **C** = Coupon payment (annual interest payment)\n",
    "- **F** = Face value of the bond (amount received at maturity)\n",
    "- **r** = Annual interest rate (or yield)\n",
    "- **n** = Number of years until maturity\n",
    "\n",
    "**Advantages of Coupon Bonds**:\n",
    "- **Steady Income**: Regular coupon payments provide a steady income stream.\n",
    "- **Predictability**: The bondholder knows the exact payment schedule and amount to be received.\n",
    "- **Diverse Investment**: Bonds help diversify portfolios and balance risk, especially in volatile equity markets.\n",
    "\n",
    "**Risks**:\n",
    "- **Interest Rate Risk**: When interest rates rise, bond prices fall, as newer bonds may offer higher coupons.\n",
    "- **Credit Risk**: The bond issuer may default on interest payments or repayment of the face value.\n",
    "- **Inflation Risk**: Fixed coupon payments lose real value if inflation rises significantly.\n"
   ]
  },
  {
   "cell_type": "code",
   "execution_count": 3,
   "id": "4175c8df-480d-4a30-b9ff-b192d37df786",
   "metadata": {},
   "outputs": [
    {
     "name": "stdout",
     "output_type": "stream",
     "text": [
      "The price of the coupon bond is: $1081.11\n"
     ]
    }
   ],
   "source": [
    "def coupon_bond_price(face_value, coupon_rate, interest_rate, years):\n",
    "    coupon_payment = face_value * coupon_rate\n",
    "    coupon_pv = coupon_payment * ((1 - (1 + interest_rate) ** -years) / interest_rate)\n",
    "    face_value_pv = face_value / (1 + interest_rate) ** years\n",
    "    price = coupon_pv + face_value_pv\n",
    "    return price\n",
    "\n",
    "face_value = 1000 \n",
    "coupon_rate = 0.05  \n",
    "interest_rate = 0.04 \n",
    "years = 10\n",
    "\n",
    "bond_price = coupon_bond_price(face_value, coupon_rate, interest_rate, years)\n",
    "print(f\"The price of the coupon bond is: ${bond_price:.2f}\")"
   ]
  },
  {
   "cell_type": "markdown",
   "id": "01130d03-5b69-4339-890a-5bf2b246cc47",
   "metadata": {},
   "source": [
    "## Yield to Maturity (YTM):\n",
    "**Definition:**  \n",
    "Yield to Maturity (YTM) is the total return expected on a bond if it is held until maturity. YTM is considered a long-term bond yield expressed as an annual rate and takes into account the bond's current market price, par value, coupon interest rate, and time to maturity.\n",
    "\n",
    "### Formula:\n",
    "$$\n",
    "YTM = \\sum_{t=1}^{n} C \\cdot e^{-y(T_i - t)} + P \\cdot e^{-y(T - t)}\n",
    "$$\n",
    "\n",
    "Where:\n",
    "- C = Coupon payment  \n",
    "- y = Yield rate  \n",
    "- T<sub>i</sub> = Time at which each coupon is paid  \n",
    "- t = Current time  \n",
    "- P = Face value of the bond  \n",
    "- T = Maturity time of the bond  "
   ]
  },
  {
   "cell_type": "markdown",
   "id": "ce888571-bb95-4b03-9c08-a2c7d9f24ba6",
   "metadata": {},
   "source": [
    "## Yield Curve Explained\n",
    "\n",
    "The **Yield Curve** is a graphical representation of interest rates (or yields) for bonds with different maturities at a specific point in time. It shows the relationship between the yield (or return) on bonds (typically government bonds) and their maturity periods, giving insight into the expected future economic conditions.\n",
    "\n",
    "### Key Concepts of the Yield Curve\n",
    "\n",
    "- **Y-axis**: Represents the interest rate or yield.\n",
    "- **X-axis**: Represents the time to maturity of the bonds (e.g., 1 year, 5 years, 10 years, 30 years).\n",
    "- **Types of Yield Curves**:\n",
    "  - **Normal Yield Curve**: An upward-sloping curve indicating that longer-term bonds have higher yields than short-term ones. This typically signals expectations of economic growth.\n",
    "  - **Inverted Yield Curve**: A downward-sloping curve where long-term yields are lower than short-term yields, often seen as a predictor of economic recession.\n",
    "  - **Flat Yield Curve**: Shows little difference in yields across maturities, suggesting uncertainty or a transition in the economy.\n",
    "\n",
    "### Yield Curve Graph\n",
    "<img src=\"images/yieldCurve.png\" alt=\"Long Position Image\" width=\"500\" height=\"300\">\n",
    "\n",
    "This graph illustrates the three types of yield curves:\n",
    "\n",
    "- **Normal Yield Curve** (upward-sloping): Longer maturities have higher yields, reflecting a healthy economic outlook.\n",
    "- **Inverted Yield Curve** (downward-sloping): Shorter maturities yield more than longer ones, often signaling an impending recession.\n",
    "- **Flat Yield Curve**: Yields are consistent across all maturities, indicating uncertainty or economic transition.\n",
    "\n",
    "Each curve provides insights into market expectations and economic conditions, helping investors and economists forecast future economic trends.\n"
   ]
  },
  {
   "cell_type": "code",
   "execution_count": null,
   "id": "922f365f-1e5b-45b5-b440-08118f473f49",
   "metadata": {},
   "outputs": [],
   "source": []
  }
 ],
 "metadata": {
  "kernelspec": {
   "display_name": "Python 3 (ipykernel)",
   "language": "python",
   "name": "python3"
  },
  "language_info": {
   "codemirror_mode": {
    "name": "ipython",
    "version": 3
   },
   "file_extension": ".py",
   "mimetype": "text/x-python",
   "name": "python",
   "nbconvert_exporter": "python",
   "pygments_lexer": "ipython3",
   "version": "3.12.6"
  }
 },
 "nbformat": 4,
 "nbformat_minor": 5
}
